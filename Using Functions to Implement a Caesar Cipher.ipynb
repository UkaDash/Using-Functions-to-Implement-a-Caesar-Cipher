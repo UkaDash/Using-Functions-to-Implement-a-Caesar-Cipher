{
 "cells": [
  {
   "cell_type": "code",
   "execution_count": 5,
   "id": "4e9601dc-44da-46c2-807c-cace8285be14",
   "metadata": {},
   "outputs": [
    {
     "name": "stdout",
     "output_type": "stream",
     "text": [
      "Alphabet: ABCDEFGHIJKLMNOPQRSTUVWXYZ\n",
      "Alphabet2: ABCDEFGHIJKLMNOPQRSTUVWXYZABCDEFGHIJKLMNOPQRSTUVWXYZ\n"
     ]
    },
    {
     "name": "stdin",
     "output_type": "stream",
     "text": [
      "Please enter a message to encrypt:  Uka\n"
     ]
    },
    {
     "name": "stdout",
     "output_type": "stream",
     "text": [
      "Uka\n"
     ]
    },
    {
     "name": "stdin",
     "output_type": "stream",
     "text": [
      "Please enter a key (whole number from 1-25):  2\n"
     ]
    },
    {
     "name": "stdout",
     "output_type": "stream",
     "text": [
      "2\n",
      "Encrypted Message: WMC\n",
      "Decypted Message: UKA\n"
     ]
    }
   ],
   "source": [
    "def getDoubleAlphabet(alphabet):\n",
    "    doubleAlphabet = alphabet + alphabet\n",
    "    return doubleAlphabet\n",
    "\n",
    "def getMessage():\n",
    "    stringToEncrypt = input(\"Please enter a message to encrypt: \")\n",
    "    return stringToEncrypt\n",
    "    \n",
    "def getCipherKey():\n",
    "    shiftAmount = input( \"Please enter a key (whole number from 1-25): \")\n",
    "    return shiftAmount\n",
    "\n",
    "def encryptMessage(message, cipherKey, alphabet):\n",
    "    encryptedMessage = \"\"\n",
    "    uppercaseMessage = \"\"\n",
    "    uppercaseMessage = message.upper()\n",
    "    for currentCharacter in uppercaseMessage:\n",
    "        position = alphabet.find(currentCharacter)\n",
    "        newPosition = position + int(cipherKey)\n",
    "        if currentCharacter in alphabet:\n",
    "            encryptedMessage = encryptedMessage + alphabet[newPosition]\n",
    "        else:\n",
    "            encryptedMessage = encryptedMessage + currentCharacter\n",
    "    return encryptedMessage\n",
    "        \n",
    "def decryptMessage(message, cipherKey, alphabet):\n",
    "    decryptKey = -1 * int(cipherKey)\n",
    "    return encryptMessage(message, decryptKey, alphabet)\n",
    "    \n",
    "def runCaesarCipherProgram():\n",
    "    myAlphabet=\"ABCDEFGHIJKLMNOPQRSTUVWXYZ\"\n",
    "    print(f'Alphabet: {myAlphabet}') \n",
    "    myAlphabet2 = getDoubleAlphabet(myAlphabet)\n",
    "    print(f'Alphabet2: {myAlphabet2}')\n",
    "    myMessage = getMessage()\n",
    "    print(myMessage)\n",
    "    myCipherKey = getCipherKey()\n",
    "    print(myCipherKey)\n",
    "    myEncryptedMessage = encryptMessage(myMessage, myCipherKey, myAlphabet2)\n",
    "    print(f'Encrypted Message: {myEncryptedMessage}')\n",
    "    myDecryptedMessage = decryptMessage(myEncryptedMessage, myCipherKey, myAlphabet2)\n",
    "    print(f'Decypted Message: {myDecryptedMessage}')\n",
    "\n",
    "runCaesarCipherProgram()\n",
    "\n"
   ]
  },
  {
   "cell_type": "code",
   "execution_count": null,
   "id": "952474a4-cd54-4fc0-9d90-bb9d97f619b0",
   "metadata": {},
   "outputs": [],
   "source": []
  }
 ],
 "metadata": {
  "kernelspec": {
   "display_name": "Python 3",
   "language": "python",
   "name": "python3"
  },
  "language_info": {
   "codemirror_mode": {
    "name": "ipython",
    "version": 3
   },
   "file_extension": ".py",
   "mimetype": "text/x-python",
   "name": "python",
   "nbconvert_exporter": "python",
   "pygments_lexer": "ipython3",
   "version": "3.8.8"
  }
 },
 "nbformat": 4,
 "nbformat_minor": 5
}
